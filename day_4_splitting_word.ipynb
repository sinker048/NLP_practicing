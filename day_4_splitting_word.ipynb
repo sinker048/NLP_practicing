{
 "cells": [
  {
   "cell_type": "markdown",
   "source": [
    "# 了解斷詞演算法的背後計算"
   ],
   "metadata": {}
  },
  {
   "cell_type": "markdown",
   "source": [
    "若有人連續三天觀察到三天水草的是乾燥的，則這三天的天氣機率為何？"
   ],
   "metadata": {}
  },
  {
   "cell_type": "markdown",
   "source": [
    "states = ('sunny', 'rainy')\n",
    "\n",
    "observations = ('dry', 'damp', 'soggy')\n",
    "\n",
    "start_probability = {'sunny': 0.4, 'rainy': 0.6}\n",
    "\n",
    "transition_probability = {'sunny':{'sunny':0.6, 'rainy':0.4},\n",
    "                          'rainy': {'sunny':0.3, 'rainy':0.7}}\n",
    "\n",
    "emission_probatility = {'sunny': {'dry':0.6, 'damp':0.3, 'soggy':0.1},\n",
    "                        'rainy': {'dry':0.1, 'damp':0.4, 'soggy':0.5}}\n",
    "\n",
    "觀察狀態 = 'dry', 'dry', 'dry'\n",
    "\n",
    "Sunny, Sunny, Sunny: 0.4*(0.6)*0.6*(0.6)*0.6*(0.6) = 0.031104\n",
    "\n",
    "Rainy, Sunny, Sunny: 0.6*(0.1)*0.3*(0.6)*0.6*(0.6) = 0.003888\n",
    "\n",
    "\n",
    "###<your answers>###\n",
    "Sunny, Sunny, Rainy: 0.4*(0.6)*0.6*(0.6)*0.4*(0.1) = 0.003456\n",
    "\n",
    "Sunny, Rainy, Sunny: 0.4*(0.6)*0.4*(0.1)*0.3*(0.6) = 0.001728\n",
    "\n",
    "Sunny, Rainy, Rainy: 0.4*(0.6)*0.4*(0.1)*0.7*(0.1) = 0.000672\n",
    "\n",
    "Rainy, Sunny, Rainy: 0.6*(0.1)*0.3*(0.6)*0.4*(0.1) = 0.000432\n",
    "\n",
    "Rainy, Rainy, Sunny: 0.6*(0.1)*0.7*(0.1)*0.3*(0.6) = 0.000756\n",
    "\n",
    "Rainy, Rainy, Rainy: 0.6*(0.1)*0.7*(0.1)*0.7*(0.1) = 0.000294\n",
    "\n",
    "最大機率為: Sunny, Sunny, Sunny"
   ],
   "metadata": {}
  },
  {
   "cell_type": "markdown",
   "source": [
    "根據上述的條件，寫出Viterbi應用程式"
   ],
   "metadata": {}
  },
  {
   "cell_type": "code",
   "execution_count": 1,
   "source": [
    "observations = ('dry', 'dry', 'dry')\n",
    "states = ('sunny', 'rainy')\n",
    "start_probability = {'sunny': 0.4, 'rainy': 0.6}\n",
    "transition_probability = {'sunny':{'sunny':0.6, 'rainy':0.4}, \n",
    "                          'rainy':{'sunny':0.3, 'rainy':0.7}}\n",
    "emission_probability = {'sunny':{'dry':0.6, 'damp':0.3, 'soggy':0.1},\n",
    "                        'rainy':{'dry':0.1, 'damp':0.4, 'soggy':0.5}}"
   ],
   "outputs": [],
   "metadata": {}
  },
  {
   "cell_type": "code",
   "execution_count": 2,
   "source": [
    "def viterbi(obs, states, start_p, trans_p, emit_p):\n",
    "    V = [{}]\n",
    "    path = {}\n",
    "    # initialize base case (t == 0)\n",
    "    for y in states:\n",
    "        V[0][y] = start_p[y] * emit_p[y][obs[0]]\n",
    "        path[y] = [y]\n",
    "    \n",
    "    # run viterbi for t > 0\n",
    "    for t in range(1, len(obs)):\n",
    "        V.append({})\n",
    "        newpath = {}\n",
    "        for cur_state in states:\n",
    "            (most_prob, most_pre) = max([\n",
    "                                        (V[t-1][pre_state] * trans_p[pre_state][cur_state] * emit_p[pre_state][obs[t]], \n",
    "                                          pre_state) \n",
    "                                          for pre_state in states\n",
    "                                          ])\n",
    "            V[t][cur_state] = most_prob\n",
    "            newpath[cur_state] = path[most_pre] + [cur_state]\n",
    "        \n",
    "        # don't need to remember the old path\n",
    "        path = newpath\n",
    "    (prob, state) = max([(V[len(obs) - 1][final_state], final_state) for final_state in states])\n",
    "    return (prob, path[state])"
   ],
   "outputs": [],
   "metadata": {}
  },
  {
   "cell_type": "code",
   "execution_count": 3,
   "source": [
    "result = viterbi(observations,\n",
    "                 states,\n",
    "                 start_probability,\n",
    "                 transition_probability,\n",
    "                 emission_probability)"
   ],
   "outputs": [],
   "metadata": {}
  },
  {
   "cell_type": "code",
   "execution_count": 4,
   "source": [
    "result"
   ],
   "outputs": [
    {
     "output_type": "execute_result",
     "data": {
      "text/plain": [
       "(0.031103999999999993, ['sunny', 'sunny', 'sunny'])"
      ]
     },
     "metadata": {},
     "execution_count": 4
    }
   ],
   "metadata": {}
  }
 ],
 "metadata": {
  "orig_nbformat": 4,
  "language_info": {
   "name": "python",
   "version": "3.9.7",
   "mimetype": "text/x-python",
   "codemirror_mode": {
    "name": "ipython",
    "version": 3
   },
   "pygments_lexer": "ipython3",
   "nbconvert_exporter": "python",
   "file_extension": ".py"
  },
  "kernelspec": {
   "name": "python3",
   "display_name": "Python 3.9.7 64-bit"
  },
  "interpreter": {
   "hash": "aee8b7b246df8f9039afb4144a1f6fd8d2ca17a180786b69acc140d282b71a49"
  }
 },
 "nbformat": 4,
 "nbformat_minor": 2
}