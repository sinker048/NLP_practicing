{
 "cells": [
  {
   "cell_type": "markdown",
   "source": [
    "了解Ｎ-Gram如何藉由文本計算機率\n",
    "\n",
    "為何需要用馬可夫假設簡化語言模型的計算？\n",
    "\n",
    "原本的語言模型利用貝氏定理間算機率為\n"
   ],
   "metadata": {}
  },
  {
   "cell_type": "markdown",
   "source": [
    "$W = (W_1W_2...W_m)$\n",
    "\n",
    "$P(W_1,W_2,...,W_m) = P(W_1) * P(W_2|W_1) * ... * P(W_m|W_1,...W_{m-1}) $"
   ],
   "metadata": {}
  },
  {
   "cell_type": "markdown",
   "source": [
    "為何需要引入馬可夫假設使機率簡化為："
   ],
   "metadata": {}
  },
  {
   "cell_type": "markdown",
   "source": [
    "$P(W_m|W_1,...,W_{m-1}) = P(W_m|W_{m-n+1},W_{m-n+2},...,W_{m-1})$"
   ],
   "metadata": {}
  },
  {
   "cell_type": "code",
   "execution_count": 1,
   "source": [
    "print('若一次看到要計算太多字時，會有該組合字詞可能未出現在文本中，導致P(W_m|W_1,W_2,...W_{m-1}) = 0')"
   ],
   "outputs": [
    {
     "output_type": "stream",
     "name": "stdout",
     "text": [
      "若一次看到要計算太多字時，會有該組合字詞可能未出現在文本中，導致P(W_m|W_1,W_2,...W_{m-1}) = 0\n"
     ]
    }
   ],
   "metadata": {}
  },
  {
   "cell_type": "markdown",
   "source": [
    "# 以Bigram模型判斷語句是否合理"
   ],
   "metadata": {}
  },
  {
   "cell_type": "markdown",
   "source": [
    "已知的機率值有"
   ],
   "metadata": {}
  },
  {
   "cell_type": "markdown",
   "source": [
    "1. p(i|start) = 0.25\n",
    "2. p(english | want) = 0.0011\n",
    "3. p(food|english) = 0.5\n",
    "4. p(end|food) = 0.68\n",
    "5. p(want|start) = 0.25\n",
    "6. p(english|i) = 0.0011"
   ],
   "metadata": {}
  },
  {
   "cell_type": "code",
   "execution_count": 2,
   "source": [
    "import numpy as np\n",
    "import pandas as pd\n",
    "words = ['i', 'want', 'to', 'eat', 'chinese', 'food', 'lunch', 'spend']\n",
    "word_cnts = np.array([2533, 927, 2417, 746, 158, 1093, 341, 278]).reshape(1, -1)\n",
    "df_word_cnts = pd.DataFrame(word_cnts, columns= words)\n",
    "df_word_cnts"
   ],
   "outputs": [
    {
     "output_type": "execute_result",
     "data": {
      "text/html": [
       "<div>\n",
       "<style scoped>\n",
       "    .dataframe tbody tr th:only-of-type {\n",
       "        vertical-align: middle;\n",
       "    }\n",
       "\n",
       "    .dataframe tbody tr th {\n",
       "        vertical-align: top;\n",
       "    }\n",
       "\n",
       "    .dataframe thead th {\n",
       "        text-align: right;\n",
       "    }\n",
       "</style>\n",
       "<table border=\"1\" class=\"dataframe\">\n",
       "  <thead>\n",
       "    <tr style=\"text-align: right;\">\n",
       "      <th></th>\n",
       "      <th>i</th>\n",
       "      <th>want</th>\n",
       "      <th>to</th>\n",
       "      <th>eat</th>\n",
       "      <th>chinese</th>\n",
       "      <th>food</th>\n",
       "      <th>lunch</th>\n",
       "      <th>spend</th>\n",
       "    </tr>\n",
       "  </thead>\n",
       "  <tbody>\n",
       "    <tr>\n",
       "      <th>0</th>\n",
       "      <td>2533</td>\n",
       "      <td>927</td>\n",
       "      <td>2417</td>\n",
       "      <td>746</td>\n",
       "      <td>158</td>\n",
       "      <td>1093</td>\n",
       "      <td>341</td>\n",
       "      <td>278</td>\n",
       "    </tr>\n",
       "  </tbody>\n",
       "</table>\n",
       "</div>"
      ],
      "text/plain": [
       "      i  want    to  eat  chinese  food  lunch  spend\n",
       "0  2533   927  2417  746      158  1093    341    278"
      ]
     },
     "metadata": {},
     "execution_count": 2
    }
   ],
   "metadata": {}
  },
  {
   "cell_type": "code",
   "execution_count": 3,
   "source": [
    "# 紀錄當前字與前一字詞存在的頻率\n",
    "bigram_word_cnts = [[5, 827, 0, 9, 0, 0, 0, 2], \n",
    "                    [2, 0, 608, 1, 6, 6, 5, 1], \n",
    "                    [2, 0, 4, 686, 2, 0, 6, 211],\n",
    "                    [0, 0, 2, 0, 16, 2, 42, 0],\n",
    "                    [1, 0, 0, 0, 0, 82, 1, 0],\n",
    "                    [15, 0, 15, 0, 1, 4, 0, 0],\n",
    "                    [2, 0, 0, 0, 0, 1, 0, 0],\n",
    "                    [1, 0, 1, 0, 0, 0, 0, 0]]\n",
    "df_bigram_word_cnts = pd.DataFrame(bigram_word_cnts, columns= words, index= words)\n",
    "df_bigram_word_cnts"
   ],
   "outputs": [
    {
     "output_type": "execute_result",
     "data": {
      "text/html": [
       "<div>\n",
       "<style scoped>\n",
       "    .dataframe tbody tr th:only-of-type {\n",
       "        vertical-align: middle;\n",
       "    }\n",
       "\n",
       "    .dataframe tbody tr th {\n",
       "        vertical-align: top;\n",
       "    }\n",
       "\n",
       "    .dataframe thead th {\n",
       "        text-align: right;\n",
       "    }\n",
       "</style>\n",
       "<table border=\"1\" class=\"dataframe\">\n",
       "  <thead>\n",
       "    <tr style=\"text-align: right;\">\n",
       "      <th></th>\n",
       "      <th>i</th>\n",
       "      <th>want</th>\n",
       "      <th>to</th>\n",
       "      <th>eat</th>\n",
       "      <th>chinese</th>\n",
       "      <th>food</th>\n",
       "      <th>lunch</th>\n",
       "      <th>spend</th>\n",
       "    </tr>\n",
       "  </thead>\n",
       "  <tbody>\n",
       "    <tr>\n",
       "      <th>i</th>\n",
       "      <td>5</td>\n",
       "      <td>827</td>\n",
       "      <td>0</td>\n",
       "      <td>9</td>\n",
       "      <td>0</td>\n",
       "      <td>0</td>\n",
       "      <td>0</td>\n",
       "      <td>2</td>\n",
       "    </tr>\n",
       "    <tr>\n",
       "      <th>want</th>\n",
       "      <td>2</td>\n",
       "      <td>0</td>\n",
       "      <td>608</td>\n",
       "      <td>1</td>\n",
       "      <td>6</td>\n",
       "      <td>6</td>\n",
       "      <td>5</td>\n",
       "      <td>1</td>\n",
       "    </tr>\n",
       "    <tr>\n",
       "      <th>to</th>\n",
       "      <td>2</td>\n",
       "      <td>0</td>\n",
       "      <td>4</td>\n",
       "      <td>686</td>\n",
       "      <td>2</td>\n",
       "      <td>0</td>\n",
       "      <td>6</td>\n",
       "      <td>211</td>\n",
       "    </tr>\n",
       "    <tr>\n",
       "      <th>eat</th>\n",
       "      <td>0</td>\n",
       "      <td>0</td>\n",
       "      <td>2</td>\n",
       "      <td>0</td>\n",
       "      <td>16</td>\n",
       "      <td>2</td>\n",
       "      <td>42</td>\n",
       "      <td>0</td>\n",
       "    </tr>\n",
       "    <tr>\n",
       "      <th>chinese</th>\n",
       "      <td>1</td>\n",
       "      <td>0</td>\n",
       "      <td>0</td>\n",
       "      <td>0</td>\n",
       "      <td>0</td>\n",
       "      <td>82</td>\n",
       "      <td>1</td>\n",
       "      <td>0</td>\n",
       "    </tr>\n",
       "    <tr>\n",
       "      <th>food</th>\n",
       "      <td>15</td>\n",
       "      <td>0</td>\n",
       "      <td>15</td>\n",
       "      <td>0</td>\n",
       "      <td>1</td>\n",
       "      <td>4</td>\n",
       "      <td>0</td>\n",
       "      <td>0</td>\n",
       "    </tr>\n",
       "    <tr>\n",
       "      <th>lunch</th>\n",
       "      <td>2</td>\n",
       "      <td>0</td>\n",
       "      <td>0</td>\n",
       "      <td>0</td>\n",
       "      <td>0</td>\n",
       "      <td>1</td>\n",
       "      <td>0</td>\n",
       "      <td>0</td>\n",
       "    </tr>\n",
       "    <tr>\n",
       "      <th>spend</th>\n",
       "      <td>1</td>\n",
       "      <td>0</td>\n",
       "      <td>1</td>\n",
       "      <td>0</td>\n",
       "      <td>0</td>\n",
       "      <td>0</td>\n",
       "      <td>0</td>\n",
       "      <td>0</td>\n",
       "    </tr>\n",
       "  </tbody>\n",
       "</table>\n",
       "</div>"
      ],
      "text/plain": [
       "          i  want   to  eat  chinese  food  lunch  spend\n",
       "i         5   827    0    9        0     0      0      2\n",
       "want      2     0  608    1        6     6      5      1\n",
       "to        2     0    4  686        2     0      6    211\n",
       "eat       0     0    2    0       16     2     42      0\n",
       "chinese   1     0    0    0        0    82      1      0\n",
       "food     15     0   15    0        1     4      0      0\n",
       "lunch     2     0    0    0        0     1      0      0\n",
       "spend     1     0    1    0        0     0      0      0"
      ]
     },
     "metadata": {},
     "execution_count": 3
    }
   ],
   "metadata": {}
  },
  {
   "cell_type": "code",
   "execution_count": 4,
   "source": [
    "# 給出總詞頻（df_word_cnts）與bigram模型的詞頻(df_bigram_word_cnts)所計算的配對機率（ex: p(want|i)）\n",
    "df_bigram_prob = df_bigram_word_cnts.copy()\n",
    "\n",
    "df_bigram_prob = df_bigram_prob / df_word_cnts.values.T\n",
    "df_bigram_prob"
   ],
   "outputs": [
    {
     "output_type": "execute_result",
     "data": {
      "text/html": [
       "<div>\n",
       "<style scoped>\n",
       "    .dataframe tbody tr th:only-of-type {\n",
       "        vertical-align: middle;\n",
       "    }\n",
       "\n",
       "    .dataframe tbody tr th {\n",
       "        vertical-align: top;\n",
       "    }\n",
       "\n",
       "    .dataframe thead th {\n",
       "        text-align: right;\n",
       "    }\n",
       "</style>\n",
       "<table border=\"1\" class=\"dataframe\">\n",
       "  <thead>\n",
       "    <tr style=\"text-align: right;\">\n",
       "      <th></th>\n",
       "      <th>i</th>\n",
       "      <th>want</th>\n",
       "      <th>to</th>\n",
       "      <th>eat</th>\n",
       "      <th>chinese</th>\n",
       "      <th>food</th>\n",
       "      <th>lunch</th>\n",
       "      <th>spend</th>\n",
       "    </tr>\n",
       "  </thead>\n",
       "  <tbody>\n",
       "    <tr>\n",
       "      <th>i</th>\n",
       "      <td>0.001974</td>\n",
       "      <td>0.32649</td>\n",
       "      <td>0.000000</td>\n",
       "      <td>0.003553</td>\n",
       "      <td>0.000000</td>\n",
       "      <td>0.000000</td>\n",
       "      <td>0.000000</td>\n",
       "      <td>0.000790</td>\n",
       "    </tr>\n",
       "    <tr>\n",
       "      <th>want</th>\n",
       "      <td>0.002157</td>\n",
       "      <td>0.00000</td>\n",
       "      <td>0.655879</td>\n",
       "      <td>0.001079</td>\n",
       "      <td>0.006472</td>\n",
       "      <td>0.006472</td>\n",
       "      <td>0.005394</td>\n",
       "      <td>0.001079</td>\n",
       "    </tr>\n",
       "    <tr>\n",
       "      <th>to</th>\n",
       "      <td>0.000827</td>\n",
       "      <td>0.00000</td>\n",
       "      <td>0.001655</td>\n",
       "      <td>0.283823</td>\n",
       "      <td>0.000827</td>\n",
       "      <td>0.000000</td>\n",
       "      <td>0.002482</td>\n",
       "      <td>0.087298</td>\n",
       "    </tr>\n",
       "    <tr>\n",
       "      <th>eat</th>\n",
       "      <td>0.000000</td>\n",
       "      <td>0.00000</td>\n",
       "      <td>0.002681</td>\n",
       "      <td>0.000000</td>\n",
       "      <td>0.021448</td>\n",
       "      <td>0.002681</td>\n",
       "      <td>0.056300</td>\n",
       "      <td>0.000000</td>\n",
       "    </tr>\n",
       "    <tr>\n",
       "      <th>chinese</th>\n",
       "      <td>0.006329</td>\n",
       "      <td>0.00000</td>\n",
       "      <td>0.000000</td>\n",
       "      <td>0.000000</td>\n",
       "      <td>0.000000</td>\n",
       "      <td>0.518987</td>\n",
       "      <td>0.006329</td>\n",
       "      <td>0.000000</td>\n",
       "    </tr>\n",
       "    <tr>\n",
       "      <th>food</th>\n",
       "      <td>0.013724</td>\n",
       "      <td>0.00000</td>\n",
       "      <td>0.013724</td>\n",
       "      <td>0.000000</td>\n",
       "      <td>0.000915</td>\n",
       "      <td>0.003660</td>\n",
       "      <td>0.000000</td>\n",
       "      <td>0.000000</td>\n",
       "    </tr>\n",
       "    <tr>\n",
       "      <th>lunch</th>\n",
       "      <td>0.005865</td>\n",
       "      <td>0.00000</td>\n",
       "      <td>0.000000</td>\n",
       "      <td>0.000000</td>\n",
       "      <td>0.000000</td>\n",
       "      <td>0.002933</td>\n",
       "      <td>0.000000</td>\n",
       "      <td>0.000000</td>\n",
       "    </tr>\n",
       "    <tr>\n",
       "      <th>spend</th>\n",
       "      <td>0.003597</td>\n",
       "      <td>0.00000</td>\n",
       "      <td>0.003597</td>\n",
       "      <td>0.000000</td>\n",
       "      <td>0.000000</td>\n",
       "      <td>0.000000</td>\n",
       "      <td>0.000000</td>\n",
       "      <td>0.000000</td>\n",
       "    </tr>\n",
       "  </tbody>\n",
       "</table>\n",
       "</div>"
      ],
      "text/plain": [
       "                i     want        to       eat   chinese      food     lunch  \\\n",
       "i        0.001974  0.32649  0.000000  0.003553  0.000000  0.000000  0.000000   \n",
       "want     0.002157  0.00000  0.655879  0.001079  0.006472  0.006472  0.005394   \n",
       "to       0.000827  0.00000  0.001655  0.283823  0.000827  0.000000  0.002482   \n",
       "eat      0.000000  0.00000  0.002681  0.000000  0.021448  0.002681  0.056300   \n",
       "chinese  0.006329  0.00000  0.000000  0.000000  0.000000  0.518987  0.006329   \n",
       "food     0.013724  0.00000  0.013724  0.000000  0.000915  0.003660  0.000000   \n",
       "lunch    0.005865  0.00000  0.000000  0.000000  0.000000  0.002933  0.000000   \n",
       "spend    0.003597  0.00000  0.003597  0.000000  0.000000  0.000000  0.000000   \n",
       "\n",
       "            spend  \n",
       "i        0.000790  \n",
       "want     0.001079  \n",
       "to       0.087298  \n",
       "eat      0.000000  \n",
       "chinese  0.000000  \n",
       "food     0.000000  \n",
       "lunch    0.000000  \n",
       "spend    0.000000  "
      ]
     },
     "metadata": {},
     "execution_count": 4
    }
   ],
   "metadata": {}
  },
  {
   "cell_type": "markdown",
   "source": [
    "根據已給的機率所計算出的機率(df_bigram_prob),試著判斷下列兩個句子哪個較為合理\n",
    "\n",
    "s1 = 'i want english food'\n",
    "\n",
    "s2 = 'want i english food'"
   ],
   "metadata": {}
  },
  {
   "cell_type": "code",
   "execution_count": 5,
   "source": [
    "p_s1 = 0.25 * df_bigram_prob.loc['i', 'want'] * 0.0011 * 0.5 * 0.68\n",
    "p_s2 = 0.25 * df_bigram_prob.loc['want', 'i'] * 0.0011 * 0.5 * 0.68\n",
    "print('P(S1) = {:.8f}, P(S2) = {:.8f}'.format(p_s1, p_s2))"
   ],
   "outputs": [
    {
     "output_type": "stream",
     "name": "stdout",
     "text": [
      "P(S1) = 0.00003053, P(S2) = 0.00000020\n"
     ]
    }
   ],
   "metadata": {}
  },
  {
   "cell_type": "markdown",
   "source": [
    "p(s1) > p(s2) , s1 is more reasonable."
   ],
   "metadata": {}
  }
 ],
 "metadata": {
  "orig_nbformat": 4,
  "language_info": {
   "name": "python",
   "version": "3.9.7",
   "mimetype": "text/x-python",
   "codemirror_mode": {
    "name": "ipython",
    "version": 3
   },
   "pygments_lexer": "ipython3",
   "nbconvert_exporter": "python",
   "file_extension": ".py"
  },
  "kernelspec": {
   "name": "python3",
   "display_name": "Python 3.9.7 64-bit"
  },
  "interpreter": {
   "hash": "aee8b7b246df8f9039afb4144a1f6fd8d2ca17a180786b69acc140d282b71a49"
  }
 },
 "nbformat": 4,
 "nbformat_minor": 2
}