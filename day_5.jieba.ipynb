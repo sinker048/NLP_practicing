{
 "cells": [
  {
   "cell_type": "markdown",
   "source": [
    "# 使用中文飯店評論資料集練習斷詞"
   ],
   "metadata": {}
  },
  {
   "cell_type": "code",
   "execution_count": 9,
   "source": [
    "import pandas as pd\n",
    "import paddle"
   ],
   "outputs": [],
   "metadata": {}
  },
  {
   "cell_type": "code",
   "execution_count": 10,
   "source": [
    "pd_corpus = pd.read_csv('ChnSentiCorp_htl_all.csv')\n",
    "pd_corpus.head(10)"
   ],
   "outputs": [
    {
     "output_type": "execute_result",
     "data": {
      "text/html": [
       "<div>\n",
       "<style scoped>\n",
       "    .dataframe tbody tr th:only-of-type {\n",
       "        vertical-align: middle;\n",
       "    }\n",
       "\n",
       "    .dataframe tbody tr th {\n",
       "        vertical-align: top;\n",
       "    }\n",
       "\n",
       "    .dataframe thead th {\n",
       "        text-align: right;\n",
       "    }\n",
       "</style>\n",
       "<table border=\"1\" class=\"dataframe\">\n",
       "  <thead>\n",
       "    <tr style=\"text-align: right;\">\n",
       "      <th></th>\n",
       "      <th>label</th>\n",
       "      <th>review</th>\n",
       "    </tr>\n",
       "  </thead>\n",
       "  <tbody>\n",
       "    <tr>\n",
       "      <th>0</th>\n",
       "      <td>1</td>\n",
       "      <td>距离川沙公路较近,但是公交指示不对,如果是\"蔡陆线\"的话,会非常麻烦.建议用别的路线.房间较...</td>\n",
       "    </tr>\n",
       "    <tr>\n",
       "      <th>1</th>\n",
       "      <td>1</td>\n",
       "      <td>商务大床房，房间很大，床有2M宽，整体感觉经济实惠不错!</td>\n",
       "    </tr>\n",
       "    <tr>\n",
       "      <th>2</th>\n",
       "      <td>1</td>\n",
       "      <td>早餐太差，无论去多少人，那边也不加食品的。酒店应该重视一下这个问题了。房间本身很好。</td>\n",
       "    </tr>\n",
       "    <tr>\n",
       "      <th>3</th>\n",
       "      <td>1</td>\n",
       "      <td>宾馆在小街道上，不大好找，但还好北京热心同胞很多~宾馆设施跟介绍的差不多，房间很小，确实挺小...</td>\n",
       "    </tr>\n",
       "    <tr>\n",
       "      <th>4</th>\n",
       "      <td>1</td>\n",
       "      <td>CBD中心,周围没什么店铺,说5星有点勉强.不知道为什么卫生间没有电吹风</td>\n",
       "    </tr>\n",
       "    <tr>\n",
       "      <th>5</th>\n",
       "      <td>1</td>\n",
       "      <td>总的来说，这样的酒店配这样的价格还算可以，希望他赶快装修，给我的客人留些好的印象</td>\n",
       "    </tr>\n",
       "    <tr>\n",
       "      <th>6</th>\n",
       "      <td>1</td>\n",
       "      <td>价格比比较不错的酒店。这次免费升级了，感谢前台服务员。房子还好，地毯是新的，比上次的好些。早...</td>\n",
       "    </tr>\n",
       "    <tr>\n",
       "      <th>7</th>\n",
       "      <td>1</td>\n",
       "      <td>不错，在同等档次酒店中应该是值得推荐的！</td>\n",
       "    </tr>\n",
       "    <tr>\n",
       "      <th>8</th>\n",
       "      <td>1</td>\n",
       "      <td>入住丽晶，感觉很好。因为是新酒店，的确有淡淡的油漆味，房间内较新。房间大小合适，卫生间设备齐...</td>\n",
       "    </tr>\n",
       "    <tr>\n",
       "      <th>9</th>\n",
       "      <td>1</td>\n",
       "      <td>1。酒店比较新，装潢和设施还不错，只是房间有些油漆味。2。早餐还可以，只是品种不是很多。3。...</td>\n",
       "    </tr>\n",
       "  </tbody>\n",
       "</table>\n",
       "</div>"
      ],
      "text/plain": [
       "   label                                             review\n",
       "0      1  距离川沙公路较近,但是公交指示不对,如果是\"蔡陆线\"的话,会非常麻烦.建议用别的路线.房间较...\n",
       "1      1                       商务大床房，房间很大，床有2M宽，整体感觉经济实惠不错!\n",
       "2      1         早餐太差，无论去多少人，那边也不加食品的。酒店应该重视一下这个问题了。房间本身很好。\n",
       "3      1  宾馆在小街道上，不大好找，但还好北京热心同胞很多~宾馆设施跟介绍的差不多，房间很小，确实挺小...\n",
       "4      1               CBD中心,周围没什么店铺,说5星有点勉强.不知道为什么卫生间没有电吹风\n",
       "5      1           总的来说，这样的酒店配这样的价格还算可以，希望他赶快装修，给我的客人留些好的印象\n",
       "6      1  价格比比较不错的酒店。这次免费升级了，感谢前台服务员。房子还好，地毯是新的，比上次的好些。早...\n",
       "7      1                               不错，在同等档次酒店中应该是值得推荐的！\n",
       "8      1  入住丽晶，感觉很好。因为是新酒店，的确有淡淡的油漆味，房间内较新。房间大小合适，卫生间设备齐...\n",
       "9      1  1。酒店比较新，装潢和设施还不错，只是房间有些油漆味。2。早餐还可以，只是品种不是很多。3。..."
      ]
     },
     "metadata": {},
     "execution_count": 10
    }
   ],
   "metadata": {}
  },
  {
   "cell_type": "code",
   "execution_count": 11,
   "source": [
    "pd_postive = pd_corpus[pd_corpus['label'] == 1]\n",
    "pd_negative = pd_corpus[pd_corpus['label'] == 0]\n",
    "print('Total: {}, Postive: {}, Negative: {}'.format(len(pd_corpus), len(pd_postive), len(pd_negative)))"
   ],
   "outputs": [
    {
     "output_type": "stream",
     "name": "stdout",
     "text": [
      "Total: 7766, Postive: 5322, Negative: 2444\n"
     ]
    }
   ],
   "metadata": {}
  },
  {
   "cell_type": "code",
   "execution_count": 12,
   "source": [
    "pd_corpus.dropna(inplace=True)"
   ],
   "outputs": [],
   "metadata": {}
  },
  {
   "cell_type": "code",
   "execution_count": 13,
   "source": [
    "import jieba"
   ],
   "outputs": [],
   "metadata": {}
  },
  {
   "cell_type": "markdown",
   "source": [
    "# 建構jieba斷詞函數"
   ],
   "metadata": {}
  },
  {
   "cell_type": "markdown",
   "source": [
    "建構可將讀入的dataframe的文本資料，外加一欄為cut的review欄斷詞結果"
   ],
   "metadata": {}
  },
  {
   "cell_type": "code",
   "execution_count": 14,
   "source": [
    "class JiebaCutingClass(object):\n",
    "    '''class to use jieba to parse corpus from dataframe and cut the corpus\n",
    "    parameters\n",
    "    ---------\n",
    "    key to cut: str\n",
    "        the dataframe key to parse the sentence for jieba cutting\n",
    "    dic: str\n",
    "        the dictionary to use for jieba, default is None (use default dictionary)\n",
    "    userdict: str\n",
    "        the user defined dictionary to use for jieba, default is None\n",
    "    '''\n",
    "    def __init__(self, key_to_cut:str, dic:str = None, userdict:str = None):\n",
    "        if dic is not None:\n",
    "            jieba.set_dictionary(dic)\n",
    "        if userdict is not None:\n",
    "            jieba.load_userdict(userdict)\n",
    "        \n",
    "        self.key_to_cut = key_to_cut\n",
    "        # padding 開啟\n",
    "        paddle.enable_static()\n",
    "        jieba.enable_paddle()\n",
    "    \n",
    "    @staticmethod\n",
    "    def cut_single_sentence(sentence, use_paddle = False, use_full = False, use_search = False):\n",
    "        if use_search:\n",
    "            out = jieba.cut_for_search(sentence)\n",
    "        \n",
    "        else:\n",
    "            out = jieba.cut(sentence, use_paddle = use_paddle, cut_all = use_full)\n",
    "        return out\n",
    "\n",
    "    def cut_corpus(self, corpus: pd.DataFrame, mode: str) -> pd.DataFrame:\n",
    "        '''Method to read and cut sentence from dataframe and append another column named cut\n",
    "\n",
    "        Parameters\n",
    "        ----------------\n",
    "        corpus: pd.DataFrame\n",
    "            Input corpus in DataFrame\n",
    "        mode: str\n",
    "            Jieba mode to be used\n",
    "        Return\n",
    "        ----------------\n",
    "        out: pd.DataFrame\n",
    "            Output corpus in DataFrame\n",
    "        \n",
    "        '''\n",
    "        # checking valid mode\n",
    "        if mode not in ['paddle', 'full', 'precise', 'search']:\n",
    "            raise TypeError(f'only support \"paddle\",\"full\",\"precise\",\"search\" mode, but get {mode}')\n",
    "\n",
    "        # cut the corpus based on mode \n",
    "        if mode == 'paddle':\n",
    "            out = self._paddle_cut(corpus)\n",
    "        elif mode == 'full':\n",
    "            out = self._full_cut(corpus)\n",
    "        elif mode == 'precise':\n",
    "            out = self._precise_cut(corpus)\n",
    "        elif mode == 'search':\n",
    "            out = self._search_cut(corpus)\n",
    "        \n",
    "        return out\n",
    "\n",
    "    def _paddle_cut(self, corpus):\n",
    "        '''paddle mode\n",
    "        '''\n",
    "        jieba.enable_paddle()\n",
    "        out = []\n",
    "        for single_review in corpus[self.key_to_cut]:\n",
    "            out.append([word for word in self.cut_single_sentence(single_review, use_paddle= True)])\n",
    "\n",
    "        corpus['cut'] = out\n",
    "\n",
    "        return corpus\n",
    "\n",
    "    def _full_cut(self, corpus):\n",
    "        '''full mode\n",
    "        '''\n",
    "        out = []\n",
    "        for single_review in corpus[self.key_to_cut]:\n",
    "            out.append([word for word in self.cut_single_sentence(single_review, use_full= True)])\n",
    "        \n",
    "        corpus['out'] = out\n",
    "        \n",
    "        return corpus\n",
    "\n",
    "    def _precise_cut(self, corpus):\n",
    "        '''precise mode\n",
    "        '''\n",
    "        out = []\n",
    "        for single_review in corpus[self.key_to_cut]:\n",
    "            out.append([word for word in self.cut_single_sentence(single_review)])\n",
    "        \n",
    "        corpus['cut'] = out\n",
    "\n",
    "        return corpus\n",
    "\n",
    "    def _search_cut(self, corpus):\n",
    "        '''search mode\n",
    "        '''\n",
    "        out = []\n",
    "        for single_review in corpus[self.key_to_cut]:\n",
    "            out.append([word for word in self.cut_single_sentence(single_review, use_search= True)])\n",
    "        \n",
    "        corpus['cut'] = out\n",
    "        return corpus"
   ],
   "outputs": [],
   "metadata": {}
  },
  {
   "cell_type": "markdown",
   "source": [
    "使用建構好的斷詞物件對文本進行斷詞"
   ],
   "metadata": {}
  },
  {
   "cell_type": "code",
   "execution_count": 7,
   "source": [
    "tokenizer = JiebaCutingClass(key_to_cut= 'review')\n",
    "# 為了避免處理時間過久，這裡用前50個進行斷詞\n",
    "pd_cut = tokenizer.cut_corpus(pd_corpus.loc[:50, :], mode = 'precise')\n",
    "pd_cut.head(10)"
   ],
   "outputs": [
    {
     "output_type": "stream",
     "name": "stderr",
     "text": [
      "Paddle enabled successfully......\n",
      "DEBUG 2022-05-11 16:37:32,061 _compat.py:47] Paddle enabled successfully......\n",
      "Building prefix dict from the default dictionary ...\n",
      "DEBUG 2022-05-11 16:37:32,063 __init__.py:113] Building prefix dict from the default dictionary ...\n",
      "Loading model from cache /var/folders/kt/j0fpnwf96017z868368dzkrw0000gn/T/jieba.cache\n",
      "DEBUG 2022-05-11 16:37:32,064 __init__.py:132] Loading model from cache /var/folders/kt/j0fpnwf96017z868368dzkrw0000gn/T/jieba.cache\n",
      "Loading model cost 0.557 seconds.\n",
      "DEBUG 2022-05-11 16:37:32,621 __init__.py:164] Loading model cost 0.557 seconds.\n",
      "Prefix dict has been built successfully.\n",
      "DEBUG 2022-05-11 16:37:32,622 __init__.py:166] Prefix dict has been built successfully.\n",
      "/var/folders/kt/j0fpnwf96017z868368dzkrw0000gn/T/ipykernel_36620/1049283163.py:93: SettingWithCopyWarning: \n",
      "A value is trying to be set on a copy of a slice from a DataFrame.\n",
      "Try using .loc[row_indexer,col_indexer] = value instead\n",
      "\n",
      "See the caveats in the documentation: https://pandas.pydata.org/pandas-docs/stable/user_guide/indexing.html#returning-a-view-versus-a-copy\n",
      "  corpus['cut'] = out\n"
     ]
    },
    {
     "output_type": "execute_result",
     "data": {
      "text/html": [
       "<div>\n",
       "<style scoped>\n",
       "    .dataframe tbody tr th:only-of-type {\n",
       "        vertical-align: middle;\n",
       "    }\n",
       "\n",
       "    .dataframe tbody tr th {\n",
       "        vertical-align: top;\n",
       "    }\n",
       "\n",
       "    .dataframe thead th {\n",
       "        text-align: right;\n",
       "    }\n",
       "</style>\n",
       "<table border=\"1\" class=\"dataframe\">\n",
       "  <thead>\n",
       "    <tr style=\"text-align: right;\">\n",
       "      <th></th>\n",
       "      <th>label</th>\n",
       "      <th>review</th>\n",
       "      <th>cut</th>\n",
       "    </tr>\n",
       "  </thead>\n",
       "  <tbody>\n",
       "    <tr>\n",
       "      <th>0</th>\n",
       "      <td>1</td>\n",
       "      <td>距离川沙公路较近,但是公交指示不对,如果是\"蔡陆线\"的话,会非常麻烦.建议用别的路线.房间较...</td>\n",
       "      <td>[距离, 川沙, 公路, 较近, ,, 但是, 公交, 指示, 不, 对, ,, 如果, 是...</td>\n",
       "    </tr>\n",
       "    <tr>\n",
       "      <th>1</th>\n",
       "      <td>1</td>\n",
       "      <td>商务大床房，房间很大，床有2M宽，整体感觉经济实惠不错!</td>\n",
       "      <td>[商务, 大床, 房, ，, 房间, 很大, ，, 床有, 2M, 宽, ，, 整体, 感觉...</td>\n",
       "    </tr>\n",
       "    <tr>\n",
       "      <th>2</th>\n",
       "      <td>1</td>\n",
       "      <td>早餐太差，无论去多少人，那边也不加食品的。酒店应该重视一下这个问题了。房间本身很好。</td>\n",
       "      <td>[早餐, 太, 差, ，, 无论, 去, 多少, 人, ，, 那边, 也, 不加, 食品, ...</td>\n",
       "    </tr>\n",
       "    <tr>\n",
       "      <th>3</th>\n",
       "      <td>1</td>\n",
       "      <td>宾馆在小街道上，不大好找，但还好北京热心同胞很多~宾馆设施跟介绍的差不多，房间很小，确实挺小...</td>\n",
       "      <td>[宾馆, 在, 小, 街道, 上, ，, 不大好, 找, ，, 但, 还好, 北京, 热心,...</td>\n",
       "    </tr>\n",
       "    <tr>\n",
       "      <th>4</th>\n",
       "      <td>1</td>\n",
       "      <td>CBD中心,周围没什么店铺,说5星有点勉强.不知道为什么卫生间没有电吹风</td>\n",
       "      <td>[CBD, 中心, ,, 周围, 没什么, 店铺, ,, 说, 5, 星, 有点, 勉强, ...</td>\n",
       "    </tr>\n",
       "    <tr>\n",
       "      <th>5</th>\n",
       "      <td>1</td>\n",
       "      <td>总的来说，这样的酒店配这样的价格还算可以，希望他赶快装修，给我的客人留些好的印象</td>\n",
       "      <td>[总的来说, ，, 这样, 的, 酒店, 配, 这样, 的, 价格, 还, 算, 可以, ，...</td>\n",
       "    </tr>\n",
       "    <tr>\n",
       "      <th>6</th>\n",
       "      <td>1</td>\n",
       "      <td>价格比比较不错的酒店。这次免费升级了，感谢前台服务员。房子还好，地毯是新的，比上次的好些。早...</td>\n",
       "      <td>[价格比, 比较, 不错, 的, 酒店, 。, 这次, 免费, 升级, 了, ，, 感谢, ...</td>\n",
       "    </tr>\n",
       "    <tr>\n",
       "      <th>7</th>\n",
       "      <td>1</td>\n",
       "      <td>不错，在同等档次酒店中应该是值得推荐的！</td>\n",
       "      <td>[不错, ，, 在, 同等, 档次, 酒店, 中, 应该, 是, 值得, 推荐, 的, ！]</td>\n",
       "    </tr>\n",
       "    <tr>\n",
       "      <th>8</th>\n",
       "      <td>1</td>\n",
       "      <td>入住丽晶，感觉很好。因为是新酒店，的确有淡淡的油漆味，房间内较新。房间大小合适，卫生间设备齐...</td>\n",
       "      <td>[入住, 丽晶, ，, 感觉, 很, 好, 。, 因为, 是, 新, 酒店, ，, 的确, ...</td>\n",
       "    </tr>\n",
       "    <tr>\n",
       "      <th>9</th>\n",
       "      <td>1</td>\n",
       "      <td>1。酒店比较新，装潢和设施还不错，只是房间有些油漆味。2。早餐还可以，只是品种不是很多。3。...</td>\n",
       "      <td>[1, 。, 酒店, 比较, 新, ，, 装潢, 和, 设施, 还, 不错, ，, 只是, ...</td>\n",
       "    </tr>\n",
       "  </tbody>\n",
       "</table>\n",
       "</div>"
      ],
      "text/plain": [
       "   label                                             review  \\\n",
       "0      1  距离川沙公路较近,但是公交指示不对,如果是\"蔡陆线\"的话,会非常麻烦.建议用别的路线.房间较...   \n",
       "1      1                       商务大床房，房间很大，床有2M宽，整体感觉经济实惠不错!   \n",
       "2      1         早餐太差，无论去多少人，那边也不加食品的。酒店应该重视一下这个问题了。房间本身很好。   \n",
       "3      1  宾馆在小街道上，不大好找，但还好北京热心同胞很多~宾馆设施跟介绍的差不多，房间很小，确实挺小...   \n",
       "4      1               CBD中心,周围没什么店铺,说5星有点勉强.不知道为什么卫生间没有电吹风   \n",
       "5      1           总的来说，这样的酒店配这样的价格还算可以，希望他赶快装修，给我的客人留些好的印象   \n",
       "6      1  价格比比较不错的酒店。这次免费升级了，感谢前台服务员。房子还好，地毯是新的，比上次的好些。早...   \n",
       "7      1                               不错，在同等档次酒店中应该是值得推荐的！   \n",
       "8      1  入住丽晶，感觉很好。因为是新酒店，的确有淡淡的油漆味，房间内较新。房间大小合适，卫生间设备齐...   \n",
       "9      1  1。酒店比较新，装潢和设施还不错，只是房间有些油漆味。2。早餐还可以，只是品种不是很多。3。...   \n",
       "\n",
       "                                                 cut  \n",
       "0  [距离, 川沙, 公路, 较近, ,, 但是, 公交, 指示, 不, 对, ,, 如果, 是...  \n",
       "1  [商务, 大床, 房, ，, 房间, 很大, ，, 床有, 2M, 宽, ，, 整体, 感觉...  \n",
       "2  [早餐, 太, 差, ，, 无论, 去, 多少, 人, ，, 那边, 也, 不加, 食品, ...  \n",
       "3  [宾馆, 在, 小, 街道, 上, ，, 不大好, 找, ，, 但, 还好, 北京, 热心,...  \n",
       "4  [CBD, 中心, ,, 周围, 没什么, 店铺, ,, 说, 5, 星, 有点, 勉强, ...  \n",
       "5  [总的来说, ，, 这样, 的, 酒店, 配, 这样, 的, 价格, 还, 算, 可以, ，...  \n",
       "6  [价格比, 比较, 不错, 的, 酒店, 。, 这次, 免费, 升级, 了, ，, 感谢, ...  \n",
       "7     [不错, ，, 在, 同等, 档次, 酒店, 中, 应该, 是, 值得, 推荐, 的, ！]  \n",
       "8  [入住, 丽晶, ，, 感觉, 很, 好, 。, 因为, 是, 新, 酒店, ，, 的确, ...  \n",
       "9  [1, 。, 酒店, 比较, 新, ，, 装潢, 和, 设施, 还, 不错, ，, 只是, ...  "
      ]
     },
     "metadata": {},
     "execution_count": 7
    }
   ],
   "metadata": {}
  },
  {
   "cell_type": "code",
   "execution_count": 8,
   "source": [
    "test_string = '我喜歡花式鋪克'\n",
    "jieba_cut = JiebaCutingClass(key_to_cut='', dic = 'dict.txt.big')\n",
    "\n",
    "out_string = jieba_cut.cut_single_sentence(test_string, use_paddle= True)\n",
    "print(f'Paddle模式： {[string for string in out_string]}')\n",
    "\n",
    "out_string = jieba_cut.cut_single_sentence(test_string, use_full= True)\n",
    "print(f'全模式： {[string for string in out_string]}')\n",
    "\n",
    "out_string = jieba_cut.cut_single_sentence(test_string, use_search= True)\n",
    "print(f'搜尋模式： {[string for string in out_string]}')\n",
    "\n",
    "out_string = jieba_cut.cut_single_sentence(test_string)\n",
    "print(f'精確模式： {[string for string in out_string]}')"
   ],
   "outputs": [
    {
     "output_type": "stream",
     "name": "stderr",
     "text": [
      "Paddle enabled successfully......\n",
      "DEBUG 2022-05-11 16:37:32,667 _compat.py:47] Paddle enabled successfully......\n",
      "Building prefix dict from /Users/ching/nlp/dict.txt.big ...\n",
      "DEBUG 2022-05-11 16:37:32,684 __init__.py:113] Building prefix dict from /Users/ching/nlp/dict.txt.big ...\n",
      "Loading model from cache /var/folders/kt/j0fpnwf96017z868368dzkrw0000gn/T/jieba.u3bb22c0208e7ce65853115ed11a2f833.cache\n",
      "DEBUG 2022-05-11 16:37:32,685 __init__.py:132] Loading model from cache /var/folders/kt/j0fpnwf96017z868368dzkrw0000gn/T/jieba.u3bb22c0208e7ce65853115ed11a2f833.cache\n"
     ]
    },
    {
     "output_type": "stream",
     "name": "stdout",
     "text": [
      "Paddle模式： ['我', '喜歡花式', '鋪克']\n"
     ]
    },
    {
     "output_type": "stream",
     "name": "stderr",
     "text": [
      "Loading model cost 0.952 seconds.\n",
      "DEBUG 2022-05-11 16:37:33,637 __init__.py:164] Loading model cost 0.952 seconds.\n",
      "Prefix dict has been built successfully.\n",
      "DEBUG 2022-05-11 16:37:33,638 __init__.py:166] Prefix dict has been built successfully.\n"
     ]
    },
    {
     "output_type": "stream",
     "name": "stdout",
     "text": [
      "全模式： ['我', '喜歡', '花式', '鋪', '克']\n",
      "搜尋模式： ['我', '喜歡', '花式', '鋪克']\n",
      "精確模式： ['我', '喜歡', '花式', '鋪克']\n"
     ]
    }
   ],
   "metadata": {}
  }
 ],
 "metadata": {
  "orig_nbformat": 4,
  "language_info": {
   "name": "python",
   "version": "3.9.7",
   "mimetype": "text/x-python",
   "codemirror_mode": {
    "name": "ipython",
    "version": 3
   },
   "pygments_lexer": "ipython3",
   "nbconvert_exporter": "python",
   "file_extension": ".py"
  },
  "kernelspec": {
   "name": "python3",
   "display_name": "Python 3.9.7 64-bit"
  },
  "interpreter": {
   "hash": "aee8b7b246df8f9039afb4144a1f6fd8d2ca17a180786b69acc140d282b71a49"
  }
 },
 "nbformat": 4,
 "nbformat_minor": 2
}