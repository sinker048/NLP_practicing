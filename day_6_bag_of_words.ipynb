{
 "cells": [
  {
   "cell_type": "markdown",
   "source": [
    "# 建立一個bag of words模型"
   ],
   "metadata": {}
  },
  {
   "cell_type": "markdown",
   "source": [
    "Bag of words 詞袋 = 從文本中統計字詞出現的頻率"
   ],
   "metadata": {}
  },
  {
   "cell_type": "code",
   "execution_count": 1,
   "source": [
    "import pandas as pd\n",
    "import nltk\n",
    "#nltk.download()\n",
    "import numpy as np\n",
    "dataset = pd.read_csv('Restaurant_Reviews.tsv', delimiter='\\t', quoting=3)\n",
    "corpus = dataset['Review'].values"
   ],
   "outputs": [],
   "metadata": {}
  },
  {
   "cell_type": "markdown",
   "source": [
    "從文本中提出所有單字"
   ],
   "metadata": {}
  },
  {
   "cell_type": "code",
   "execution_count": 2,
   "source": [
    "whole_words = []\n",
    "for sentence in corpus:\n",
    "    tokenized_sentence = nltk.word_tokenize(sentence)\n",
    "    for word in tokenized_sentence:\n",
    "        whole_words.append(word)"
   ],
   "outputs": [],
   "metadata": {}
  },
  {
   "cell_type": "markdown",
   "source": [
    "移除重複字詞"
   ],
   "metadata": {}
  },
  {
   "cell_type": "code",
   "execution_count": 3,
   "source": [
    "whole_words = set(whole_words)\n",
    "print('There are total {} words'.format(len(whole_words)))"
   ],
   "outputs": [
    {
     "output_type": "stream",
     "name": "stdout",
     "text": [
      "There are total 2351 words\n"
     ]
    }
   ],
   "metadata": {}
  },
  {
   "cell_type": "markdown",
   "source": [
    "建立字典使每一個單字有對應數值"
   ],
   "metadata": {}
  },
  {
   "cell_type": "code",
   "execution_count": 4,
   "source": [
    "word_index = {}\n",
    "index_word = {}\n",
    "for idx, word in enumerate(whole_words):\n",
    "    word_index[word] = idx\n",
    "    index_word[idx] = word"
   ],
   "outputs": [],
   "metadata": {}
  },
  {
   "cell_type": "code",
   "execution_count": 5,
   "source": [
    "list(word_index.items())[:10]"
   ],
   "outputs": [
    {
     "output_type": "execute_result",
     "data": {
      "text/plain": [
       "[('venturing', 0),\n",
       " ('Shrimp-', 1),\n",
       " ('guys', 2),\n",
       " ('Cibo', 3),\n",
       " ('fabulous', 4),\n",
       " ('tender', 5),\n",
       " ('opportunity', 6),\n",
       " ('weekend', 7),\n",
       " ('oven', 8),\n",
       " ('containers', 9)]"
      ]
     },
     "metadata": {},
     "execution_count": 5
    }
   ],
   "metadata": {}
  },
  {
   "cell_type": "code",
   "execution_count": 6,
   "source": [
    "list(index_word.items())[:10]"
   ],
   "outputs": [
    {
     "output_type": "execute_result",
     "data": {
      "text/plain": [
       "[(0, 'venturing'),\n",
       " (1, 'Shrimp-'),\n",
       " (2, 'guys'),\n",
       " (3, 'Cibo'),\n",
       " (4, 'fabulous'),\n",
       " (5, 'tender'),\n",
       " (6, 'opportunity'),\n",
       " (7, 'weekend'),\n",
       " (8, 'oven'),\n",
       " (9, 'containers')]"
      ]
     },
     "metadata": {},
     "execution_count": 6
    }
   ],
   "metadata": {}
  },
  {
   "cell_type": "markdown",
   "source": [
    "轉換句子為bag of words型式"
   ],
   "metadata": {}
  },
  {
   "cell_type": "code",
   "execution_count": 7,
   "source": [
    "def _get_bag_of_words_vector(sentence, word_index_dict, whole_words):\n",
    "    vector = np.zeros(len(whole_words))\n",
    "    for word in nltk.word_tokenize(sentence):\n",
    "        if word in whole_words:\n",
    "            vector[word_index_dict[word]] += 1\n",
    "    return vector"
   ],
   "outputs": [],
   "metadata": {}
  },
  {
   "cell_type": "code",
   "execution_count": 8,
   "source": [
    "_get_bag_of_words_vector('Wow... Loved this place.', word_index, whole_words)"
   ],
   "outputs": [
    {
     "output_type": "execute_result",
     "data": {
      "text/plain": [
       "array([0., 0., 0., ..., 0., 0., 0.])"
      ]
     },
     "metadata": {},
     "execution_count": 8
    }
   ],
   "metadata": {}
  }
 ],
 "metadata": {
  "orig_nbformat": 4,
  "language_info": {
   "name": "python",
   "version": "3.9.7",
   "mimetype": "text/x-python",
   "codemirror_mode": {
    "name": "ipython",
    "version": 3
   },
   "pygments_lexer": "ipython3",
   "nbconvert_exporter": "python",
   "file_extension": ".py"
  },
  "kernelspec": {
   "name": "python3",
   "display_name": "Python 3.9.7 64-bit"
  },
  "interpreter": {
   "hash": "aee8b7b246df8f9039afb4144a1f6fd8d2ca17a180786b69acc140d282b71a49"
  }
 },
 "nbformat": 4,
 "nbformat_minor": 2
}